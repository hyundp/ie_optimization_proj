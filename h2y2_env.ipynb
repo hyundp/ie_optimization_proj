{
 "cells": [
  {
   "cell_type": "code",
   "execution_count": 2,
   "metadata": {},
   "outputs": [
    {
     "data": {
      "text/plain": [
       "'    \\n    더 나아가서,\\n    1. multi agent를 사용해야하나?\\n    \\n    state 설정\\n    만약 넣은 state가 100,None,2,1,0,0(defalut) 라면, action value는 \\n    3^6=729개의 조합에 대해 q-value를 뽑고 그 중 하나를 고르는 것.\\n    따라서 state는 (729, 6)의 크기를 갖는다.\\n    \\n    deep q 이유\\n    만약 일반 q learning을 쓸 때, \\n    하나의 하이퍼파라미터 당 10개의 tracking을 한다고 가정하면, 10^6만큼의 q-table이 필요하게 된다.\\n    따라서 시/공간 효율성을 위해 하이퍼파라미터 조합에 대한 q-value 값을 표현해주는 신경망을 학습시키는 것이 도움이 될 수 있다.\\n    \\n    장점\\n    1. 기존 hyperparameter tunning 방식은 내가 가능한 조합을 미리 설계해주어야 했다. 그래서 경험적으로 가능한 조합에 대한 지식이 있어야한다.\\n       하지만 강화학습에서는 step을 통해 조합을 찾으므로 미리 가능한 조합을 설계해둘 필요가 없다.\\n    2. 학습된 모델을 데이터가 추가된 경우에도 그대로 사용할 수 있다.\\n    3. 한번 만들어두면 시간 효율적이다.\\n    4. 학습된 모델을 파인튜닝하여 사용할 수 있다.\\n    5. 기존 방식은 내가 조합을 미리 제한해두기 때문에 최적의 조합인지에 대한 확신을 가지기 어렵다.\\n    6. 인간이 어떤 문제에 대해서 해결을 할 때, 모든 경우의 수를 모두 반복하지 않고 기존 경험을 통해 최선의 몇가지 방법만을 반복한다.\\n        DQL을 사용한 하이퍼파라미터 튜닝은 이와 같은 추상화 방식을 사용하며, 기존 경험을 통해 다음 결정을 유도하는 방식이다.\\n'"
      ]
     },
     "execution_count": 2,
     "metadata": {},
     "output_type": "execute_result"
    }
   ],
   "source": [
    "\"\"\"\n",
    "    심층 강화학습(Deep Q Learning) + CNN_LSTM => Hyperparameter Optimization\n",
    "\n",
    "    정리\n",
    "    1. agent를 통해서 policy(랜덤값이 앱실론보다 작으면 랜덤 인덱스와 랜덤 action을, \n",
    "                            그렇지 않으면 내부 신경망(LSTM)에 state값을 넣어 \n",
    "                            가능한 모든 action에 대한 action_values(Q_values) 중 가장 큰 값에 해당하는 인덱스와 그 값을 반환한다.\n",
    "                            이때 사용되는 내부 신경망은 main_network이다.)\n",
    "        에 맞는 action_index와 action_value를 찾아낸다.\n",
    "    2. 찾아낸 action_index와 action_value를 env에 넣어서 RF 모델을 돌린 뒤 next_state(다음 action 집합)와 reward(정확도)를 찾아낸다.\n",
    "    3. memory(replay buffer)에 현재 state와 action_index, 그리고 위에서 도출된 next_state, reward를 넣는다.\n",
    "    4. replay buffer에서 원하는 batch size만큼 sample(state, action_index, reward, next_state)을 뽑아낸다.\n",
    "    5. sample의 state를 main_network에 넣어서 도출된 값들 중 action index에 맞는 값을 뽑고 이를 main Q 값으로 한다.\n",
    "    6. sample의 next_state를 target_network에 넣어서 값을 도출한 뒤, 그 중 가장 큰 값을 찾아낸다.\n",
    "    7. 위에서 찾아낸 값을 Q라고 한다면, reward + gamma(discount factor)*Q = target Q로 정한다.\n",
    "    8. mainQ와 targetQ를 loss function에 넣어서 내부 신경망 파라미터를 역전파로 업데이트 한다. 이때 옵티마이저도 사용된다.\n",
    "    9. 이 과정을 반복하여 main Q가 target Q에 가까워질 수 있게 한다.\n",
    "    \n",
    "    \n",
    "    \n",
    "    신경망 성능 상승 (현재: CNN+LSTM)\n",
    "    1. CNN+GRU 사용 -> 100,1000 기준으로는 더 성능이 안좋다.\n",
    "    2. LSTM만 사용 \n",
    "    3. GRU만 사용\n",
    "    4. Transformer 사용\n",
    "    5. discount factor 변경 (0.99 -> 0.7) : reward의 영향을 더 크게 만든다.\n",
    "    6. batch_size 변경\n",
    "\"\"\"\n",
    "\n",
    "\"\"\"    \n",
    "    더 나아가서,\n",
    "    1. multi agent를 사용해야하나?\n",
    "    \n",
    "    state 설정\n",
    "    만약 넣은 state가 100,None,2,1,0,0(defalut) 라면, action value는 \n",
    "    3^6=729개의 조합에 대해 q-value를 뽑고 그 중 하나를 고르는 것.\n",
    "    따라서 state는 (729, 6)의 크기를 갖는다.\n",
    "    \n",
    "    deep q 이유\n",
    "    만약 일반 q learning을 쓸 때, \n",
    "    하나의 하이퍼파라미터 당 10개의 tracking을 한다고 가정하면, 10^6만큼의 q-table이 필요하게 된다.\n",
    "    따라서 시/공간 효율성을 위해 하이퍼파라미터 조합에 대한 q-value 값을 표현해주는 신경망을 학습시키는 것이 도움이 될 수 있다.\n",
    "    \n",
    "    장점\n",
    "    1. 기존 hyperparameter tunning 방식은 내가 가능한 조합을 미리 설계해주어야 했다. 그래서 경험적으로 가능한 조합에 대한 지식이 있어야한다.\n",
    "       하지만 강화학습에서는 step을 통해 조합을 찾으므로 미리 가능한 조합을 설계해둘 필요가 없다.\n",
    "    2. 학습된 모델을 데이터가 추가된 경우에도 그대로 사용할 수 있다.\n",
    "    3. 한번 만들어두면 시간 효율적이다.\n",
    "    4. 학습된 모델을 파인튜닝하여 사용할 수 있다.\n",
    "    5. 기존 방식은 내가 조합을 미리 제한해두기 때문에 최적의 조합인지에 대한 확신을 가지기 어렵다.\n",
    "    6. 인간이 어떤 문제에 대해서 해결을 할 때, 모든 경우의 수를 모두 반복하지 않고 기존 경험을 통해 최선의 몇가지 방법만을 반복한다.\n",
    "        DQL을 사용한 하이퍼파라미터 튜닝은 이와 같은 추상화 방식을 사용하며, 기존 경험을 통해 다음 결정을 유도하는 방식이다.\n",
    "\"\"\"\n",
    "\n"
   ]
  },
  {
   "cell_type": "code",
   "execution_count": 3,
   "metadata": {},
   "outputs": [],
   "source": [
    "import gym\n",
    "import random\n",
    "import numpy as np\n",
    "import pandas as pd\n",
    "from collections import deque, namedtuple\n",
    "import copy\n",
    "from itertools import product\n",
    "import torch\n",
    "from torch import nn as nn\n",
    "from torch import optim\n",
    "import torch.nn.functional as F\n",
    "from tqdm import tqdm"
   ]
  },
  {
   "cell_type": "code",
   "execution_count": null,
   "metadata": {},
   "outputs": [],
   "source": []
  },
  {
   "cell_type": "code",
   "execution_count": 4,
   "metadata": {},
   "outputs": [],
   "source": [
    "if torch.cuda.is_available():\n",
    "    device = torch.device('cuda:0')\n",
    "else:\n",
    "    device = torch.device('cpu')\n",
    "    \n",
    "random.seed(42)"
   ]
  },
  {
   "cell_type": "code",
   "execution_count": 5,
   "metadata": {},
   "outputs": [],
   "source": [
    "from sklearn.ensemble import RandomForestClassifier\n",
    "from sklearn.metrics import accuracy_score\n",
    "from sklearn.model_selection import train_test_split\n",
    "from sklearn.datasets import load_breast_cancer, load_wine\n",
    "from scipy.stats import t\n",
    "\n",
    "class h2y2_RF_Model():\n",
    "    def __init__(self, cur_hyperparameter, edit, new):\n",
    "        self.model = RandomForestClassifier(**cur_hyperparameter, random_state=42)\n",
    "        x_data, y_data = self.get_data(edit, new)\n",
    "        self.train_x, self.test_x, self.train_y, self.test_y = train_test_split(x_data, y_data, test_size=0.3, random_state=42)\n",
    "\n",
    "    # 신뢰구간을 구하는 함수\n",
    "    def get_interval(self, data, confidence):\n",
    "        n = len(data)\n",
    "        dof = n-1 # 자유도\n",
    "        mean = np.mean(data)\n",
    "        \n",
    "        sample_std = np.std(data, ddof = 1)\n",
    "        std_err = sample_std / n ** 0.5\n",
    "\n",
    "        CI = t.interval(confidence, dof, loc = mean, scale = std_err)\n",
    "        return CI\n",
    "\n",
    "    # 원하는 범위의 실수값을 n개 sample하는 함수\n",
    "    def n_sample_float(self, n, ci):\n",
    "        sample_result = []\n",
    "        for _ in range(n):\n",
    "            sample_result.append(random.uniform(ci[0], ci[1]))\n",
    "        return sample_result\n",
    "\n",
    "    # 데이터를 추가하는 함수 (95% 신뢰구간에서 랜덤으로 추출)\n",
    "    def add_data(self, data):\n",
    "        df = pd.DataFrame(data.data, columns=data.feature_names)\n",
    "        df['target'] = data.target\n",
    "        data_0 = df[df['target'] == 0]\n",
    "        data_1 = df[df['target'] == 1]\n",
    "        add_df_0 = pd.DataFrame(columns = df.columns)\n",
    "        add_df_1 = pd.DataFrame(columns = df.columns)\n",
    "        # 데이터는 각각 label당 5%씩 추가한다.\n",
    "        for fn in data.feature_names:\n",
    "            fn_ci_0 = self.get_interval(data_0[fn], 0.95)\n",
    "            fn_add_list_0 = self.n_sample_float(max(1,int(len(data_0)*0.05)), fn_ci_0)\n",
    "            add_df_0[fn] = fn_add_list_0\n",
    "            fn_ci_1 = self.get_interval(data_1[fn], 0.95)\n",
    "            fn_add_list_1 = self.n_sample_float(max(1,int(len(data_1)*0.05)), fn_ci_1)\n",
    "            add_df_1[fn] = fn_add_list_1\n",
    "        add_df_0['target'] = 0\n",
    "        add_df_1['target'] = 1\n",
    "        \n",
    "        return pd.concat([df,add_df_0,add_df_1])\n",
    "\n",
    "    def get_data(self, edit, new):\n",
    "        data = load_breast_cancer()\n",
    "        if edit:\n",
    "            data = self.add_data(data)\n",
    "            data.to_csv('./data/new_data.csv')\n",
    "            x_data = data.drop(['target'], axis=1)\n",
    "            y_data = data['target']\n",
    "        elif new:\n",
    "            # data = pd.read_csv('./data/Heart_Disease_Prediction.csv')\n",
    "            # x_data = data.drop(['Heart Disease'], axis=1)\n",
    "            # y_data = data['Heart Disease']\n",
    "            data = load_wine()\n",
    "            x_data = pd.DataFrame(data.data, columns=data.feature_names)\n",
    "            y_data = data.target\n",
    "        else:\n",
    "            x_data = pd.DataFrame(data.data, columns=data.feature_names)\n",
    "            y_data = data.target\n",
    "        return x_data, y_data\n",
    "\n",
    "    def evaluate(self):\n",
    "        self.model.fit(self.train_x, self.train_y)\n",
    "        predict = self.model.predict(self.test_x)\n",
    "        return accuracy_score(self.test_y, predict)\n",
    "    "
   ]
  },
  {
   "cell_type": "code",
   "execution_count": 6,
   "metadata": {},
   "outputs": [],
   "source": [
    "class H2Y2_env:\n",
    "    \n",
    "    def __init__(self):\n",
    "        # initial\n",
    "        self.comb_config = [[-50,0,50], [-2,0,2], [-1,0,1], [-1,0,1], [-0.1,0,0.1], [-0.1,0,0.1]]\n",
    "        self.hyperparameter_list = ['n_estimators', 'max_depth', 'min_samples_split', 'min_samples_leaf', 'min_weight_fraction_leaf', 'min_impurity_decrease']\n",
    "        self.epsilon = 1e-2\n",
    "    \n",
    "    # 하이퍼파라미터의 범위를 제한해주는 함수 ver1\n",
    "    def check_bound(self, comb):        \n",
    "        comb_sum = comb[1] + comb[2]\n",
    "        if comb[0] == 'n_estimators':\n",
    "            if comb_sum > 0:\n",
    "                return int(comb_sum)\n",
    "        elif comb[0] == 'max_depth':\n",
    "            if comb_sum > 0:\n",
    "                return int(comb_sum)\n",
    "        elif comb[0] == 'min_samples_leaf':\n",
    "            if comb_sum > 0:\n",
    "                return int(comb_sum)\n",
    "        elif comb[0] == 'min_samples_split':\n",
    "            if comb_sum > 1:\n",
    "                return int(comb_sum)\n",
    "        elif comb[0] == 'min_weight_fraction_leaf':\n",
    "            if comb_sum >= 0 and comb_sum <= 0.5:\n",
    "                return float(comb_sum)\n",
    "        elif comb[0] == 'min_impurity_decrease':\n",
    "            if comb_sum >= 0 and comb_sum <= 1:\n",
    "                return float(comb_sum)\n",
    "        return comb[1]\n",
    "    \n",
    "    # 하이퍼파라미터의 범위를 제한해주는 함수 ver2\n",
    "    def check_bound_ver2(self, comb):\n",
    "        sample_state = []\n",
    "        for i in range(len(comb[2])):\n",
    "            comb_sum = comb[1] + comb[2][i]\n",
    "            if comb[0] == 'n_estimators':\n",
    "                if comb_sum > 0:\n",
    "                    sample_state.append(int(comb_sum))\n",
    "            elif comb[0] == 'max_depth':\n",
    "                if comb_sum > 0:\n",
    "                    sample_state.append(int(comb_sum))\n",
    "            elif comb[0] == 'min_samples_leaf':\n",
    "                if comb_sum > 0:\n",
    "                    sample_state.append(int(comb_sum))\n",
    "            elif comb[0] == 'min_samples_split':\n",
    "                if comb_sum > 1:\n",
    "                    sample_state.append(int(comb_sum))\n",
    "            elif comb[0] == 'min_weight_fraction_leaf':\n",
    "                if comb_sum >= 0 and comb_sum <= 0.5:\n",
    "                    sample_state.append(float(comb_sum))\n",
    "            elif comb[0] == 'min_impurity_decrease':\n",
    "                if comb_sum >= 0 and comb_sum <= 1:\n",
    "                    sample_state.append(float(comb_sum))\n",
    "            else:\n",
    "                sample_state.append(comb[1])\n",
    "        return sample_state\n",
    "    \n",
    "    # hyper-parameter vector를 받아서 다음으로 가능한 모든 조합을 반환해주는 함수\n",
    "    def make_state(self, cur_comb):\n",
    "        comb = list(product(*self.comb_config))\n",
    "        state = [tuple(map(self.check_bound, zip(self.hyperparameter_list, cur_comb, tuple_comb))) for tuple_comb in comb]\n",
    "        # print(state)\n",
    "        return state\n",
    "        \n",
    "    # q_value로 도출된 action_index가 어떤 observation을 가리키는지 확인한다.\n",
    "    def mapping_action(self, state, action_index):\n",
    "        all_state = list(product(*state))\n",
    "        # print(len(all_state))\n",
    "        return all_state[action_index]\n",
    "        \n",
    "    # hyper-parameter vector를 받아서 파라미터마다 가능한 값을 2차원으로 반환해주는 함수 ex)[[90, 100, 110], [2, 4, 6], [20, 25, 30], ...]\n",
    "    def make_state_ver2(self, cur_comb):\n",
    "        state = []\n",
    "        for name, cur, comb in zip(self.hyperparameter_list, cur_comb, self.comb_config):\n",
    "            state.append(self.check_bound_ver2([name,cur,comb]))\n",
    "        # print(state)\n",
    "        return state\n",
    "    \n",
    "    # env의 초기 state 설정, state는 hyper-parameter의 가능한 모든 조합으로 정의한다.\n",
    "    def reset(self):\n",
    "        init_hp = [random.randint(1, 100), random.randint(1, 100), random.randint(2, 100), random.randint(1, 100), random.random()/2, random.random()]\n",
    "        state = self.make_state(init_hp)\n",
    "        return state\n",
    "        \n",
    "    # action을 넣어서 next_state와 reward를 반환하는 함수\n",
    "    def step(self, state, action_index, edit, new):\n",
    "        done = 0\n",
    "        cur_comb = state[action_index]\n",
    "        cur_hyperparameter = dict(zip(self.hyperparameter_list, cur_comb))\n",
    "        rf_model = h2y2_RF_Model(cur_hyperparameter, edit, new)\n",
    "        reward = rf_model.evaluate()\n",
    "        next_state = self.make_state(cur_comb)\n",
    "        if reward == 1-self.epsilon:\n",
    "            done = 1\n",
    "        return next_state, reward, done\n",
    "\n",
    "    # action을 넣어서 next_state와 reward를 반환하는 함수 ver2\n",
    "    def step_ver2(self, state, action_index, edit, new):\n",
    "        done = 0\n",
    "        cur_comb = self.mapping_action(state, action_index) # state에 맞게 현재 조합 매핑\n",
    "        cur_hyperparameter = dict(zip(self.hyperparameter_list, cur_comb))\n",
    "        rf_model = h2y2_RF_Model(cur_hyperparameter, edit, new)\n",
    "        reward = rf_model.evaluate()\n",
    "        next_state = self.make_state_ver2(cur_comb)\n",
    "        if reward == 1-self.epsilon:\n",
    "            done = 1\n",
    "        return next_state, reward, done\n",
    "        "
   ]
  },
  {
   "cell_type": "code",
   "execution_count": 7,
   "metadata": {},
   "outputs": [],
   "source": [
    "class H2Y2_Agent:\n",
    "    def __init__(self):\n",
    "        self.gamma = 0.7 # discount factor\n",
    "        self.t_step = 0\n",
    "        self.learn_freq = 4\n",
    "        self.target_update_freq = 1000\n",
    "        self.batch_size = 32\n",
    "        self.action_size = 6\n",
    "\n",
    "        self.main_network = Network(input_size=(729,6), out_size=729).float().to(device)\n",
    "        self.target_network = Network(input_size=(729,6), out_size=729).float().to(device)\n",
    "        self.target_network.load_state_dict(self.main_network.state_dict())\n",
    "        \n",
    "        self.hidden_state, self.cell_state = self.main_network.init_hidden_states(bsize=1)\n",
    "        self.memory = ReplayBuffer(action_size = self.action_size, buffer_size = 10000, batch_size = self.batch_size, seed=42)\n",
    "        self.optimizer = optim.Adam(self.main_network.parameters(), lr = 0.01)\n",
    "\n",
    "    \n",
    "    def select_action(self, state, eps=0.):\n",
    "        # \"내부의 신경망에 state를 넣어 모든 q_value를 뽑고, argmax로 선택\"\n",
    "        \n",
    "        state = torch.from_numpy(np.array(state)).float().unsqueeze(0).to(device)\n",
    "        self.main_network.eval()\n",
    "        with torch.no_grad(): # 연산속도 증가\n",
    "            action_values, _ = self.main_network.forward(state, bsize=1, time_step=1, hidden_state=self.hidden_state, cell_state=self.cell_state)\n",
    "            # print(type(action_values)) # tuple\n",
    "        self.main_network.train()\n",
    "    \n",
    "        # q_value를 최대로 만드는 action의 인덱스를 선택한다.\n",
    "        if random.random() > eps:\n",
    "            max_index = torch.argmax(action_values)\n",
    "            return max_index\n",
    "        else:\n",
    "            random_index = random.choice(np.arange(self.action_size))\n",
    "            return random_index\n",
    "            \n",
    "    def step(self, state, action_index, reward, next_state, done):\n",
    "        # 메모리에 현재의 state, action_index, reward, next_state, done을 추가한다.\n",
    "        self.t_step += 1 \n",
    "        # print(self.t_step) # t_step은 episode가 바뀌어도 유지된다.\n",
    "        self.memory.add(state, action_index, reward, next_state, done)\n",
    "        \n",
    "        # target_update로 정해둔 step마다, target network의 파라미터를 업데이트 한다.\n",
    "        if (self.t_step % self.target_update_freq) == 0:\n",
    "            self.target_network.load_state_dict(self.main_network.state_dict())\n",
    "            \n",
    "        # learn_freq로 정해둔 step마다, batch_size만큼의 샘플을 가지고 main_network를 학습시킨다.\n",
    "        if (self.t_step % self.learn_freq) == 0:\n",
    "            # batch_size만큼의 sample이 memory에 있으면 학습을 실행한다.\n",
    "            if len(self.memory) > self.batch_size:\n",
    "                experiences = self.memory.sample()\n",
    "                self.learn(experiences, self.gamma)\n",
    "    \n",
    "    # main_network의 파라미터를 학습하는 함수\n",
    "    def learn(self, experiences, gamma):\n",
    "        states, actions, reward, next_states, dones = experiences\n",
    "        hidden_batch, cell_batch = self.main_network.init_hidden_states(bsize=self.batch_size)\n",
    "\n",
    "        # target_network를 통해 next_state에 대한 q_value 값을 도출하고, 그 중 max인 값을 선택한다.\n",
    "        Q_targets_next, _ = self.target_network.forward(next_states,bsize=self.batch_size, time_step=1, hidden_state=hidden_batch, cell_state=cell_batch)\n",
    "        Q_targets_next_max, __ = Q_targets_next.detach().max(dim=1)\n",
    "        Q_targets_next_max = Q_targets_next_max.view(-1,1)\n",
    "        # print(Q_targets_next_max.shape) # torch.Size([23328, 1]) -> torch.Size([32, 1])이 나와야함. -> 완료\n",
    "        \n",
    "        # q_value_target을 계산한다.\n",
    "        Q_targets = reward + (gamma * Q_targets_next_max)\n",
    "        # print(Q_targets.shape) # (32,1)\n",
    "\n",
    "        # main_network를 통해 현재 state와 action 대한 q_value를 도출한다.\n",
    "        Q_expected, _ = self.main_network.forward(states, bsize=self.batch_size, time_step=1, hidden_state=hidden_batch, cell_state=cell_batch)\n",
    "\n",
    "        # print(Q_expected.shape) # (32,729)\n",
    "        Q_expected_action = Q_expected.gather(dim=1, index = actions)\n",
    "        # print(Q_expected_action.shape) # (32,1)\n",
    "        \n",
    "        # print(f\"current: {Q_expected_action[0]}, \\n target: {Q_targets[0]}\")\n",
    "        \n",
    "        loss = F.mse_loss(Q_expected_action, Q_targets)\n",
    "\n",
    "        self.optimizer.zero_grad()\n",
    "        loss.backward()\n",
    "        self.optimizer.step()\n"
   ]
  },
  {
   "cell_type": "code",
   "execution_count": 8,
   "metadata": {},
   "outputs": [],
   "source": [
    "class ReplayBuffer:\n",
    "\n",
    "    def __init__(self, action_size, buffer_size, batch_size, seed):\n",
    "\n",
    "        self.action_size = action_size #각각의 action의 차원\n",
    "        self.memory = deque(maxlen=buffer_size)  #버퍼의 최대 크기\n",
    "        self.batch_size = batch_size # 배치 사이즈\n",
    "        self.experience = namedtuple(\"Experience\", field_names=[\"state\", \"action\", \"reward\", \"next_state\", \"done\"])\n",
    "        self.seed = random.seed(seed) # 랜덤 시드\n",
    "    \n",
    "    # states, actions, rewards, next_states, done을 replay memory에 저장하는 함수\n",
    "    def add(self, state, action, reward, next_state, done):\n",
    "        e = self.experience(state, action, reward, next_state, done)\n",
    "        self.memory.append(e)\n",
    "    \n",
    "    # replay memory에서 이전 과정에서 저장된 states, actions, rewards, next_states, done을 랜덤 추출하는 함수\n",
    "    def sample(self):\n",
    "        experiences = random.sample(self.memory, k=self.batch_size)\n",
    "\n",
    "        states = torch.from_numpy(np.vstack([torch.as_tensor(e.state).cpu() for e in experiences if e is not None])).float().to(device)\n",
    "        # print(states.shape) # (32*729,6)\n",
    "        actions = torch.from_numpy(np.vstack([torch.as_tensor(e.action).cpu() for e in experiences if e is not None])).long().to(device)\n",
    "        # print(actions.shape) # (32,1)\n",
    "        rewards = torch.from_numpy(np.vstack([torch.as_tensor(e.reward).cpu() for e in experiences if e is not None])).float().to(device)\n",
    "        # print(rewards.shape) # (32,1)\n",
    "        next_states = torch.from_numpy(np.vstack([torch.as_tensor(e.next_state).cpu() for e in experiences if e is not None])).float().to(device)\n",
    "        dones = torch.from_numpy(np.vstack([torch.as_tensor(e.done).cpu() for e in experiences if e is not None]).astype(np.uint8)).float().to(device)\n",
    "        # print(dones.shape) # (32,1)\n",
    "  \n",
    "        return (states, actions, rewards, next_states, dones)\n",
    "\n",
    "    def __len__(self):\n",
    "        return len(self.memory)"
   ]
  },
  {
   "cell_type": "code",
   "execution_count": 9,
   "metadata": {},
   "outputs": [],
   "source": [
    "# lstm\n",
    "\n",
    "class LSTM(nn.Module):\n",
    "    \n",
    "    def __init__(self,input_size,out_size):\n",
    "        super(LSTM,self).__init__()\n",
    "        self.input_size = input_size\n",
    "        self.out_size = out_size\n",
    "        \n",
    "        self.lstm_layer = nn.LSTM(input_size = 729, )\n",
    "        self.relu = nn.ReLU()"
   ]
  },
  {
   "cell_type": "code",
   "execution_count": 10,
   "metadata": {},
   "outputs": [],
   "source": [
    "# gru\n",
    "\n",
    "class GRU(nn.Module):\n",
    "    def __init__(self, input_size, out_size):\n",
    "        super(GRU, self).__init__()\n",
    "        self.input_size = input_size\n",
    "        self.out_size = out_size\n",
    "        \n",
    "        "
   ]
  },
  {
   "cell_type": "code",
   "execution_count": 11,
   "metadata": {},
   "outputs": [],
   "source": [
    "# cnn+lstm network\n",
    "\n",
    "class Network(nn.Module):\n",
    "    \n",
    "    def __init__(self,input_size,out_size):\n",
    "        super(Network,self).__init__()\n",
    "        self.input_size = input_size\n",
    "        self.out_size = out_size\n",
    "        \n",
    "        self.conv_layer1 = nn.Conv1d(in_channels=1,out_channels=32,kernel_size=8,stride=4)\n",
    "        self.conv_layer2 = nn.Conv1d(in_channels=32,out_channels=64,kernel_size=4,stride=2)\n",
    "        self.conv_layer3 = nn.Conv1d(in_channels=64,out_channels=64,kernel_size=3,stride=1)\n",
    "        self.conv_layer4 = nn.Conv1d(in_channels=64,out_channels=512,kernel_size=7,stride=1)\n",
    "        self.lstm_layer = nn.LSTM(input_size=512,hidden_size=512,num_layers=1,batch_first=True)\n",
    "        self.adv = nn.Linear(in_features=512,out_features=self.out_size)\n",
    "        self.val = nn.Linear(in_features=512,out_features=1)\n",
    "        self.relu = nn.ReLU()\n",
    "        \n",
    "    def forward(self,x,bsize,time_step,hidden_state,cell_state):\n",
    "        x = x.view(bsize*time_step,1,-1)\n",
    "        \n",
    "        conv_out = self.conv_layer1(x)\n",
    "        conv_out = self.relu(conv_out)\n",
    "        conv_out = self.conv_layer2(conv_out)\n",
    "        conv_out = self.relu(conv_out)\n",
    "        conv_out = self.conv_layer3(conv_out)\n",
    "        conv_out = self.relu(conv_out)\n",
    "        conv_out = self.conv_layer4(conv_out)\n",
    "        conv_out = self.relu(conv_out)\n",
    "        # print(conv_out.shape) # [1,512,~]\n",
    "        \n",
    "        conv_out = conv_out.view(bsize, -1, 512)\n",
    "        \n",
    "        lstm_out = self.lstm_layer(conv_out,(hidden_state,cell_state))\n",
    "        out = lstm_out[0][:,time_step-1,:]\n",
    "        h_n = lstm_out[1][0]\n",
    "        c_n = lstm_out[1][1]\n",
    "        \n",
    "        adv_out = self.adv(out)\n",
    "        val_out = self.val(out)\n",
    "        \n",
    "        qout = val_out.expand(bsize,self.out_size) + (adv_out - adv_out.mean(dim=1).unsqueeze(dim=1).expand(bsize,self.out_size))\n",
    "        \n",
    "        return qout, (h_n,c_n)\n",
    "    \n",
    "    def init_hidden_states(self,bsize):\n",
    "        h = torch.zeros(1,bsize,512).float().to(device)\n",
    "        c = torch.zeros(1,bsize,512).float().to(device)\n",
    "        \n",
    "        return h,c"
   ]
  },
  {
   "cell_type": "code",
   "execution_count": 12,
   "metadata": {},
   "outputs": [],
   "source": [
    "# cnn + gru network\n",
    "\n",
    "class GRU_Network(nn.Module):\n",
    "    def __init__(self,input_size,out_size):\n",
    "        super(GRU_Network,self).__init__()\n",
    "        self.input_size = input_size\n",
    "        self.out_size = out_size\n",
    "        \n",
    "        self.conv_layer1 = nn.Conv1d(in_channels=1,out_channels=32,kernel_size=8,stride=4)\n",
    "        self.conv_layer2 = nn.Conv1d(in_channels=32,out_channels=64,kernel_size=4,stride=2)\n",
    "        self.conv_layer3 = nn.Conv1d(in_channels=64,out_channels=64,kernel_size=3,stride=1)\n",
    "        self.conv_layer4 = nn.Conv1d(in_channels=64,out_channels=512,kernel_size=7,stride=1)\n",
    "        self.gru_layer = nn.GRU(input_size=512,hidden_size=512,num_layers=1,batch_first=True)\n",
    "        self.adv = nn.Linear(in_features=512,out_features=self.out_size)\n",
    "        self.val = nn.Linear(in_features=512,out_features=1)\n",
    "        self.relu = nn.ReLU()\n",
    "        \n",
    "    def forward(self,x,bsize,time_step,hidden_state,cell_state):\n",
    "        x = x.view(bsize*time_step,1,-1)\n",
    "        \n",
    "        conv_out = self.conv_layer1(x)\n",
    "        conv_out = self.relu(conv_out)\n",
    "        conv_out = self.conv_layer2(conv_out)\n",
    "        conv_out = self.relu(conv_out)\n",
    "        conv_out = self.conv_layer3(conv_out)\n",
    "        conv_out = self.relu(conv_out)\n",
    "        conv_out = self.conv_layer4(conv_out)\n",
    "        conv_out = self.relu(conv_out)\n",
    "        # print(conv_out.shape) # [1,512,~]\n",
    "        \n",
    "        conv_out = conv_out.view(bsize, -1, 512)\n",
    "        \n",
    "        gru_out, h_n = self.gru_layer(conv_out,hidden_state)\n",
    "        out = gru_out[:,time_step-1,:]\n",
    "        \n",
    "        adv_out = self.adv(out)\n",
    "        val_out = self.val(out)\n",
    "        \n",
    "        qout = val_out.expand(bsize,self.out_size) + (adv_out - adv_out.mean(dim=1).unsqueeze(dim=1).expand(bsize,self.out_size))\n",
    "        \n",
    "        return qout, h_n\n",
    "    \n",
    "    def init_hidden_states(self,bsize):\n",
    "        h = torch.zeros(1,bsize,512).float().to(device)\n",
    "        c = torch.zeros(1,bsize,512).float().to(device)\n",
    "        \n",
    "        return h,c"
   ]
  },
  {
   "cell_type": "code",
   "execution_count": 13,
   "metadata": {},
   "outputs": [],
   "source": [
    "# transformer network\n",
    "\n",
    "class TransformerNetwork(nn.Module):\n",
    "    def __init__(self):\n",
    "        super(TransformerNetwork,self).__init__()\n",
    "        self.transformer_layer = nn.Transformer()"
   ]
  },
  {
   "cell_type": "code",
   "execution_count": 14,
   "metadata": {},
   "outputs": [],
   "source": [
    "# simple network\n",
    "q_network = nn.Sequential(\n",
    "    nn.Linear(6, 128),\n",
    "    nn.ReLU(),\n",
    "    nn.Linear(128, 64),\n",
    "    nn.ReLU(),\n",
    "    nn.Linear(64, 1))"
   ]
  },
  {
   "cell_type": "code",
   "execution_count": 15,
   "metadata": {},
   "outputs": [],
   "source": [
    "class H2Y2:\n",
    "    def __init__(self, edit=False, new=False):\n",
    "        self.agent = H2Y2_Agent()\n",
    "        self.env = H2Y2_env()\n",
    "        self.eps = 1.0 # 처음 epsilon\n",
    "        self.scores = []\n",
    "        self.end_times = []\n",
    "        self.edit = edit\n",
    "        self.new = new\n",
    "        \n",
    "    def dqn(self, n_episodes=10, max_t=10, eps_end=0.01, eps_decay=0.99):\n",
    "            \n",
    "        for i_episode in tqdm(range(1, n_episodes+1)):\n",
    "            print(f\"{i_episode} episode\")\n",
    "            state = self.env.reset()\n",
    "            score = 0\n",
    "            for t in range(1,max_t+1):\n",
    "                # print(f\"{t} time\")\n",
    "                action_index = self.agent.select_action(state, self.eps)\n",
    "                next_state, reward, done = self.env.step(state, action_index, self.edit, self.new)\n",
    "                self.agent.step(state, action_index, reward, next_state, done)\n",
    "                state = next_state\n",
    "                score += reward\n",
    "                if done:\n",
    "                    break\n",
    "            self.scores.append(score) # 하나의 episode에 대한 score(reward)를 저장\n",
    "            self.end_times.append(t) # 몇번의 step을 통해 done에 도달하는지 확인\n",
    "            self.eps = max(eps_end, eps_decay*self.eps) # decrease epsilon\n",
    "\n",
    "            if i_episode % 5 == 0:\n",
    "                torch.save(self.agent.main_network.state_dict(),f'./model/{i_episode}_cpu_test.pt') \n",
    "        # model save\n",
    "        torch.save(self.agent.main_network.state_dict(),'./model/cpu_test.pt')\n",
    "        return np.mean(self.scores)"
   ]
  },
  {
   "cell_type": "code",
   "execution_count": null,
   "metadata": {},
   "outputs": [],
   "source": [
    "# 모델 학습\n",
    "\n",
    "h2y2 = H2Y2()\n",
    "\n",
    "h2y2.dqn()"
   ]
  },
  {
   "cell_type": "code",
   "execution_count": 27,
   "metadata": {},
   "outputs": [
    {
     "data": {
      "text/plain": [
       "[8.736842105263158,\n",
       " 9.210526315789476,\n",
       " 6.3157894736842115,\n",
       " 6.3157894736842115,\n",
       " 7.140350877192983,\n",
       " 6.3157894736842115,\n",
       " 6.3157894736842115,\n",
       " 6.3157894736842115,\n",
       " 7.257309941520469,\n",
       " 9.502923976608187]"
      ]
     },
     "execution_count": 27,
     "metadata": {},
     "output_type": "execute_result"
    }
   ],
   "source": [
    "h2y2.scores"
   ]
  },
  {
   "cell_type": "code",
   "execution_count": 42,
   "metadata": {},
   "outputs": [
    {
     "name": "stdout",
     "output_type": "stream",
     "text": [
      "729\n",
      "0.9415204678362573\n",
      "0\n"
     ]
    }
   ],
   "source": [
    "# test\n",
    "\n",
    "def main():\n",
    "    env = H2Y2_env()\n",
    "    agent = H2Y2_Agent()\n",
    "    state = env.reset()\n",
    "    print(len(state))\n",
    "    next_state, reward, done = env.step(state, 48)\n",
    "    print(reward)\n",
    "    print(done)\n",
    "    \n",
    "    \n",
    "if __name__=='__main__':\n",
    "    main()\n",
    "    \n",
    "# 실험해보면 좋을 것\n",
    "# 1. 다음달에 새로운 데이터가 추가되었을 때도 잘 동작하는가 ( 데이터가 점진적으로 추가되었을 때 사용이 가능한가 )\n",
    "# 2. 그리드서치, 랜덤서치, 베이지안 서치랑 비교\n",
    "# 3. 데이터 도메인이 완전히 변경되었을 때도 lstm 레이어만 파인튜닝 튜닝하는 것으로 성능이 좋을까?"
   ]
  },
  {
   "cell_type": "code",
   "execution_count": 33,
   "metadata": {},
   "outputs": [],
   "source": [
    "# 강화학습모델의 파라미터를 불러와서 목표 모델의 하이퍼파라미터를 튜닝하는 함수\n",
    "def h2y2_optimization(model, max_t, edit=False, new=False):\n",
    "    h2y2_test = H2Y2(edit, new)\n",
    "    weights = torch.load(f'./model/{model}', map_location='cpu')\n",
    "    h2y2_test.agent.main_network.load_state_dict(weights)\n",
    "    max_score = 0\n",
    "    scores = []\n",
    "    done_t = []\n",
    "\n",
    "    for episode in range(1):\n",
    "        state = h2y2_test.env.reset()\n",
    "        for t in range(1,max_t+1):\n",
    "            action_index = h2y2_test.agent.select_action(state, 0.01)\n",
    "            next_state, reward, done = h2y2_test.env.step(state, action_index, edit, new)\n",
    "            state = next_state\n",
    "            scores.append(reward)\n",
    "            max_score = max(max_score, reward)\n",
    "            done_t.append(done)\n",
    "            if done:\n",
    "                break\n",
    "    \n",
    "    return scores, max_score, done_t\n",
    "\n",
    "scores, max_score, dones = h2y2_optimization('CNN_LSTM_WEIGHTS_100episodes_10000max_t.pt', 100, edit=False)\n",
    "\n",
    "# 1000번 step에 2분 소요\n",
    "# 500번 step에 1분 소요\n",
    "# 100번 step에 15초 소요\n"
   ]
  },
  {
   "cell_type": "code",
   "execution_count": 17,
   "metadata": {},
   "outputs": [
    {
     "name": "stdout",
     "output_type": "stream",
     "text": [
      "0.9532163742690059\n"
     ]
    },
    {
     "data": {
      "text/plain": [
       "[<matplotlib.lines.Line2D at 0x2559c24d3f0>]"
      ]
     },
     "execution_count": 17,
     "metadata": {},
     "output_type": "execute_result"
    },
    {
     "data": {
      "image/png": "[encoded data removed]",
      "text/plain": [
       "<Figure size 640x480 with 1 Axes>"
      ]
     },
     "metadata": {},
     "output_type": "display_data"
    }
   ],
   "source": [
    "import matplotlib.pyplot as plt\n",
    "\n",
    "print(max_score)\n",
    "plt.plot(scores)"
   ]
  },
  {
   "cell_type": "code",
   "execution_count": 13,
   "metadata": {},
   "outputs": [
    {
     "name": "stdout",
     "output_type": "stream",
     "text": [
      "[0, 0, 0, 0, 0, 0, 0, 0, 0, 0, 0, 0, 0, 0, 0, 0, 0, 0, 0, 0, 0, 0, 0, 0, 0, 0, 0, 0, 0, 0, 0, 0, 0, 0, 0, 0, 0, 0, 0, 0, 0, 0, 0, 0, 0, 0, 0, 0, 0, 0, 0, 0, 0, 0, 0, 0, 0, 0, 0, 0, 0, 0, 0, 0, 0, 0, 0, 0, 0, 0, 0, 0, 0, 0, 0, 0, 0, 0, 0, 0, 0, 0, 0, 0, 0, 0, 0, 0, 0, 0, 0, 0, 0, 0, 0, 0, 0, 0, 0, 0]\n"
     ]
    }
   ],
   "source": [
    "print(dones)"
   ]
  },
  {
   "cell_type": "code",
   "execution_count": null,
   "metadata": {},
   "outputs": [],
   "source": [
    "# gru network에서 테스트\n"
   ]
  },
  {
   "cell_type": "code",
   "execution_count": 67,
   "metadata": {},
   "outputs": [
    {
     "name": "stdout",
     "output_type": "stream",
     "text": [
      "\n",
      "Grid Search :  0.9473684210526315\n"
     ]
    }
   ],
   "source": [
    "# grid search\n",
    "from sklearn.model_selection import GridSearchCV\n",
    "\n",
    "grid_search = {'n_estimators': [10, 50, 100],\n",
    "               'max_depth': [2, 4, 6],\n",
    "               'min_samples_leaf': [1, 2, 3],\n",
    "               'min_samples_split': [2, 3, 4],\n",
    "               'min_weight_fraction_leaf': [0.1, 0.2, 0.3],\n",
    "               'min_impurity_decrease': [0.1, 0.2, 0.3],\n",
    "               }\n",
    "data = load_breast_cancer()\n",
    "x_data = pd.DataFrame(data.data, columns=data.feature_names)\n",
    "y_data = data.target\n",
    "train_x, test_x, train_y, test_y = train_test_split(x_data, y_data, test_size=0.3, random_state=42)\n",
    "\n",
    "clf = RandomForestClassifier(random_state=42)\n",
    "grid_model = GridSearchCV(estimator = clf, param_grid = grid_search, scoring='accuracy')\n",
    "grid_model.fit(train_x,train_y)\n",
    "predict = grid_model.best_estimator_.predict(test_x)\n",
    "\n",
    "# 하이퍼파라미터 6개를 각각 5개씩 지정하여 돌렸을 때 (5^6 = 15625),\n",
    "# 시간은 정말 많이...(1번당 5초가 걸린다고 했을 때, 15625*5초 = 21시간) 소요된다.\n",
    "\n",
    "# 하이퍼파라미터 6개를 각각 3개씩 지정하여 돌렸을 때, (3^6 = 729)\n",
    "# 시간은 5분이 걸린다.\n",
    "\n",
    "# 단점: 모든 조합을 다 해볼 순 있지만 시간이 매~우 많이 걸리고,\n",
    "#       다 해봤다고 하더라도 내가 지정해준 조합 내에서만 움직이는 것이므로 최적을 보장할 순 없음."
   ]
  },
  {
   "cell_type": "code",
   "execution_count": 68,
   "metadata": {},
   "outputs": [
    {
     "name": "stdout",
     "output_type": "stream",
     "text": [
      "0.9220886075949366\n"
     ]
    },
    {
     "data": {
      "text/plain": [
       "[<matplotlib.lines.Line2D at 0x255aa87d030>]"
      ]
     },
     "execution_count": 68,
     "metadata": {},
     "output_type": "execute_result"
    },
    {
     "data": {
      "image/png": "[encoded data removed]",
      "text/plain": [
       "<Figure size 640x480 with 1 Axes>"
      ]
     },
     "metadata": {},
     "output_type": "display_data"
    }
   ],
   "source": [
    "# grid search 결과 시각화\n",
    "import pandas as pd\n",
    "df = pd.DataFrame(grid_model.cv_results_)\n",
    "grid_score = df['mean_test_score']\n",
    "\n",
    "print(\"\\nGrid Search : \", grid_model.best_score_)\n",
    "plt.plot(grid_score)"
   ]
  },
  {
   "cell_type": "code",
   "execution_count": 73,
   "metadata": {},
   "outputs": [
    {
     "name": "stdout",
     "output_type": "stream",
     "text": [
      "\n",
      "Random Search :  0.9415204678362573\n"
     ]
    }
   ],
   "source": [
    "# random search (주어진 범위 내에서 임의의 조합을 선택하여 최적의 조합을 탐색)\n",
    "from sklearn.model_selection import RandomizedSearchCV\n",
    "\n",
    "random_search = {'n_estimators': [10, 50, 100, 150, 200],\n",
    "               'max_depth': [2, 4, 6, 8, 10],\n",
    "               'min_samples_leaf': [1, 2, 3, 4, 5],\n",
    "               'min_samples_split': [2, 3, 4, 5, 6],\n",
    "               'min_weight_fraction_leaf': [0.1, 0.2, 0.3, 0.4, 0.5],\n",
    "               'min_impurity_decrease': [0.1, 0.2, 0.3, 0.4, 0.5],\n",
    "               }\n",
    "\n",
    "data = load_breast_cancer()\n",
    "x_data = pd.DataFrame(data.data, columns=data.feature_names)\n",
    "y_data = data.target\n",
    "train_x, test_x, train_y, test_y = train_test_split(x_data, y_data, test_size=0.3, random_state=42)\n",
    "\n",
    "clf = RandomForestClassifier(random_state=42)\n",
    "random_model = RandomizedSearchCV(estimator = clf, param_distributions = random_search, n_iter = 10, random_state= 42, scoring='accuracy')\n",
    "random_model.fit(train_x,train_y)\n",
    "predict = random_model.best_estimator_.predict(test_x)\n",
    "\n",
    "# 하이퍼파라미터 6개를 각각 5개씩 지정하여 iteration을 100번 돌렸을 때,\n",
    "# 시간은 1분 20초가 소요된다."
   ]
  },
  {
   "cell_type": "code",
   "execution_count": 80,
   "metadata": {},
   "outputs": [
    {
     "name": "stdout",
     "output_type": "stream",
     "text": [
      "0.919746835443038\n"
     ]
    }
   ],
   "source": [
    "# random search 결과 시각화\n",
    "import pandas as pd\n",
    "df = pd.DataFrame(random_model.cv_results_)\n",
    "\n",
    "print(\"\\nRandom Search : \", random_model.best_score_)\n",
    "random_score = df['mean_test_score']\n",
    "\n",
    "plt.plot(random_score)"
   ]
  },
  {
   "cell_type": "code",
   "execution_count": 16,
   "metadata": {},
   "outputs": [
    {
     "name": "stdout",
     "output_type": "stream",
     "text": [
      "\n",
      "Bayesian Search :  0.9473684210526315\n"
     ]
    }
   ],
   "source": [
    "# Bayesian optimization ver1\n",
    "\n",
    "# 목적 함수\n",
    "from sklearn.metrics import r2_score, mean_squared_error\n",
    "\n",
    "def bayes_rf(n_estimators, max_depth, min_samples_leaf, min_samples_split, min_weight_fraction_leaf, min_impurity_decrease):\n",
    "    model = RandomForestClassifier(\n",
    "        n_estimators=int(n_estimators),\n",
    "        max_depth = int(max_depth),\n",
    "        min_samples_leaf = int(min_samples_leaf),\n",
    "        min_samples_split = int(min_samples_split),\n",
    "        min_weight_fraction_leaf = min_weight_fraction_leaf,\n",
    "        min_impurity_decrease = min_impurity_decrease,\n",
    "        random_state=42)\n",
    "    \n",
    "    data = load_breast_cancer()\n",
    "    x_data = pd.DataFrame(data.data, columns=data.feature_names)\n",
    "    y_data = data.target\n",
    "    train_x, test_x, train_y, test_y = train_test_split(x_data, y_data, test_size=0.3, random_state=42)\n",
    "    \n",
    "    model.fit(train_x,train_y)\n",
    "    y_pred= model.predict(test_x)\n",
    "    \n",
    "    score=accuracy_score(y_pred, test_y)\n",
    "    \n",
    "    return score\n",
    "    \n",
    "\n",
    "# 베이지안 최적화\n",
    "from bayes_opt import BayesianOptimization, UtilityFunction\n",
    "\n",
    "Bayesian_search = {'n_estimators': [10, 1000],\n",
    "               'max_depth': [2, 100],\n",
    "               'min_samples_leaf': [1, 100],\n",
    "               'min_samples_split': [2, 100],\n",
    "               'min_weight_fraction_leaf': [0.1, 0.5],\n",
    "               'min_impurity_decrease': [0.1, 0.9]\n",
    "               }\n",
    "               \n",
    "bo = BayesianOptimization(f=bayes_rf, pbounds=Bayesian_search, verbose=0, random_state=42)\n",
    "bo.maximize(init_points=2, n_iter=100)\n",
    "\n",
    "max_parameter = bo.max['params']\n",
    "max_parameter['n_estimators']=int(max_parameter['n_estimators'])\n",
    "max_parameter['max_depth']=int(max_parameter['max_depth'])\n",
    "max_parameter['min_samples_leaf']=int(max_parameter['min_samples_leaf'])\n",
    "max_parameter['min_samples_split']=int(max_parameter['min_samples_split'])\n",
    "\n",
    "\n",
    "bo_tuned_rf = RandomForestClassifier(**max_parameter)\n",
    "data = load_breast_cancer()\n",
    "x_data = pd.DataFrame(data.data, columns=data.feature_names)\n",
    "y_data = data.target\n",
    "train_x, test_x, train_y, test_y = train_test_split(x_data, y_data, test_size=0.3, random_state=42)\n",
    "\n",
    "bo_tuned_rf.fit(train_x,train_y)\n",
    "y_pred= bo_tuned_rf.predict(test_x)\n",
    "print(\"\\nBayesian Search : \", accuracy_score(test_y, y_pred))\n",
    "\n",
    "# 하이퍼파라미터 6개 iteration을 100번 돌렸을 때, \n",
    "# 시간은 초가 소요된다.\n",
    "# 정확도는 Bayesian Search :  0.9473684210526315\n",
    "\n",
    "# 단점 : "
   ]
  },
  {
   "cell_type": "code",
   "execution_count": null,
   "metadata": {},
   "outputs": [],
   "source": [
    "# 베이지안 최적화 과정 시각화\n",
    "from matplotlib import gridspec\n",
    "from bayes_opt import BayesianOptimization, UtilityFunction\n",
    "\n",
    "def posterior(optimizer, x_obs, y_obs, grid):\n",
    "    optimizer._gp.fit(x_obs, y_obs)\n",
    "\n",
    "    mu, sigma = optimizer._gp.predict(grid, return_std=True)\n",
    "    return mu, sigma\n",
    "\n",
    "def plot_gp(optimizer, x, y):\n",
    "    fig = plt.figure(figsize=(16, 10))\n",
    "    steps = len(optimizer.space)\n",
    "    fig.suptitle(\n",
    "        'Gaussian Process and Utility Function After {} Steps'.format(steps),\n",
    "        fontdict={'size':30}\n",
    "    )\n",
    "    \n",
    "    gs = gridspec.GridSpec(2, 1, height_ratios=[3, 1]) \n",
    "    axis = plt.subplot(gs[0])\n",
    "    acq = plt.subplot(gs[1])\n",
    "    \n",
    "    x_obs = np.array([[res[\"params\"][\"x\"]] for res in optimizer.res])\n",
    "    y_obs = np.array([res[\"target\"] for res in optimizer.res])\n",
    "    \n",
    "    mu, sigma = posterior(optimizer, x_obs, y_obs, x)\n",
    "    axis.plot(x, y, linewidth=3, label='Target')\n",
    "    axis.plot(x_obs.flatten(), y_obs, 'D', markersize=8, label=u'Observations', color='r')\n",
    "    axis.plot(x, mu, '--', color='k', label='Prediction')\n",
    "\n",
    "    axis.fill(np.concatenate([x, x[::-1]]), \n",
    "              np.concatenate([mu - 1.9600 * sigma, (mu + 1.9600 * sigma)[::-1]]),\n",
    "        alpha=.6, fc='c', ec='None', label='95% confidence interval')\n",
    "    \n",
    "    axis.set_xlim((-2, 10))\n",
    "    axis.set_ylim((None, None))\n",
    "    axis.set_ylabel('f(x)', fontdict={'size':20})\n",
    "    axis.set_xlabel('x', fontdict={'size':20})\n",
    "    \n",
    "    utility_function = UtilityFunction(kind=\"ucb\", kappa=5, xi=0)\n",
    "    utility = utility_function.utility(x, optimizer._gp, 0)\n",
    "    acq.plot(x, utility, label='Utility Function', color='purple')\n",
    "    acq.plot(x[np.argmax(utility)], np.max(utility), '*', markersize=15, \n",
    "             label=u'Next Best Guess', markerfacecolor='gold', markeredgecolor='k', markeredgewidth=1)\n",
    "    acq.set_xlim((-2, 10))\n",
    "    acq.set_ylim((0, np.max(utility) + 0.5))\n",
    "    acq.set_ylabel('Utility', fontdict={'size':20})\n",
    "    acq.set_xlabel('x', fontdict={'size':20})\n",
    "    \n",
    "    axis.legend(loc=2, bbox_to_anchor=(1.01, 1), borderaxespad=0.)\n",
    "    acq.legend(loc=2, bbox_to_anchor=(1.01, 1), borderaxespad=0.)\n",
    "    \n",
    "plot_gp(bo, Bayesian_search, )"
   ]
  },
  {
   "cell_type": "code",
   "execution_count": null,
   "metadata": {},
   "outputs": [
    {
     "name": "stderr",
     "output_type": "stream",
     "text": [
      "c:\\Users\\zkdlx\\miniconda3\\envs\\h2y2\\lib\\site-packages\\skopt\\optimizer\\optimizer.py:449: UserWarning: The objective has been evaluated at this point before.\n",
      "  warnings.warn(\"The objective has been evaluated \"\n",
      "c:\\Users\\zkdlx\\miniconda3\\envs\\h2y2\\lib\\site-packages\\skopt\\optimizer\\optimizer.py:449: UserWarning: The objective has been evaluated at this point before.\n",
      "  warnings.warn(\"The objective has been evaluated \"\n",
      "c:\\Users\\zkdlx\\miniconda3\\envs\\h2y2\\lib\\site-packages\\skopt\\optimizer\\optimizer.py:449: UserWarning: The objective has been evaluated at this point before.\n",
      "  warnings.warn(\"The objective has been evaluated \"\n",
      "c:\\Users\\zkdlx\\miniconda3\\envs\\h2y2\\lib\\site-packages\\skopt\\optimizer\\optimizer.py:449: UserWarning: The objective has been evaluated at this point before.\n",
      "  warnings.warn(\"The objective has been evaluated \"\n",
      "c:\\Users\\zkdlx\\miniconda3\\envs\\h2y2\\lib\\site-packages\\skopt\\optimizer\\optimizer.py:449: UserWarning: The objective has been evaluated at this point before.\n",
      "  warnings.warn(\"The objective has been evaluated \"\n",
      "c:\\Users\\zkdlx\\miniconda3\\envs\\h2y2\\lib\\site-packages\\skopt\\optimizer\\optimizer.py:449: UserWarning: The objective has been evaluated at this point before.\n",
      "  warnings.warn(\"The objective has been evaluated \"\n",
      "c:\\Users\\zkdlx\\miniconda3\\envs\\h2y2\\lib\\site-packages\\skopt\\optimizer\\optimizer.py:449: UserWarning: The objective has been evaluated at this point before.\n",
      "  warnings.warn(\"The objective has been evaluated \"\n"
     ]
    },
    {
     "name": "stdout",
     "output_type": "stream",
     "text": [
      "\n",
      "Bayesian Search :  0.9473684210526315\n"
     ]
    }
   ],
   "source": [
    "# Bayesian optimization ver2\n",
    "from skopt import BayesSearchCV\n",
    "\n",
    "data = load_breast_cancer()\n",
    "x_data = pd.DataFrame(data.data, columns=data.feature_names)\n",
    "y_data = data.target\n",
    "train_x, test_x, train_y, test_y = train_test_split(x_data, y_data, test_size=0.3, random_state=42)\n",
    "\n",
    "Bayesian_search = {'n_estimators': [10, 50, 100, 150, 200],\n",
    "               'max_depth': [2, 4, 6, 8, 10],\n",
    "               'min_samples_leaf': [1, 2, 3, 4, 5],\n",
    "               'min_samples_split': [2, 3, 4, 5, 6],\n",
    "               'min_weight_fraction_leaf': [0.1, 0.2, 0.3, 0.4, 0.5],\n",
    "               'min_impurity_decrease': [0.1, 0.2, 0.3, 0.4, 0.5],\n",
    "               }\n",
    "\n",
    "clf = RandomForestClassifier(random_state=42)\n",
    "\n",
    "bayesian_model = BayesSearchCV(\n",
    "    clf,\n",
    "    Bayesian_search,\n",
    "    n_iter=100,\n",
    "    random_state=42,\n",
    "    scoring='accuracy',\n",
    ")\n",
    "\n",
    "bayesian_model.fit(train_x, train_y)\n",
    "predict = bayesian_model.best_estimator_.predict(test_x)\n",
    "print(\"\\nBayesian Search : \", accuracy_score(test_y, predict))\n",
    "\n",
    "# 하이퍼파라미터 6개를 각각 5개씩 지정하여 iteration을 100번 돌렸을 때,\n",
    "# 시간은 7분 4초가 소요된다.\n",
    "# 정확도는 Bayesian Search : 0.9473684210526315\n",
    "\n",
    "# 단점 :  "
   ]
  },
  {
   "cell_type": "code",
   "execution_count": null,
   "metadata": {},
   "outputs": [],
   "source": [
    "# Bayesian search 결과 시각화\n",
    "import pandas as pd\n",
    "df = pd.DataFrame(bayesian_model.cv_results_)\n",
    "\n",
    "print(\"\\bayesian Search : \", bayesian_model.best_score_)\n",
    "bayesian_score = df['mean_test_score']\n",
    "\n",
    "plt.plot(random_score)"
   ]
  },
  {
   "cell_type": "code",
   "execution_count": null,
   "metadata": {},
   "outputs": [],
   "source": [
    "# Genetic Algorithm\n",
    "\n"
   ]
  },
  {
   "cell_type": "code",
   "execution_count": null,
   "metadata": {},
   "outputs": [],
   "source": [
    "# 결론\n",
    "# DQL을 사용한 하이퍼파라미터 튜닝의 성능이 가장 좋게 나온다."
   ]
  },
  {
   "cell_type": "code",
   "execution_count": 17,
   "metadata": {},
   "outputs": [
    {
     "name": "stdout",
     "output_type": "stream",
     "text": [
      "569\n"
     ]
    }
   ],
   "source": [
    "data = load_breast_cancer()\n",
    "print(len(data.data))"
   ]
  },
  {
   "cell_type": "code",
   "execution_count": 53,
   "metadata": {},
   "outputs": [
    {
     "name": "stdout",
     "output_type": "stream",
     "text": [
      "0.9608938547486033\n"
     ]
    },
    {
     "data": {
      "text/plain": [
       "[<matplotlib.lines.Line2D at 0x189c48206d0>]"
      ]
     },
     "execution_count": 53,
     "metadata": {},
     "output_type": "execute_result"
    },
    {
     "data": {
      "image/png": "[encoded data removed]",
      "text/plain": [
       "<Figure size 640x480 with 1 Axes>"
      ]
     },
     "metadata": {},
     "output_type": "display_data"
    }
   ],
   "source": [
    "# DQL을 활용해서 RF모델을 학습시키는 데이터가 추가되었을 때도 잘 동작하는지 확인\n",
    "import matplotlib.pyplot as plt\n",
    "scores, max_score, dones = h2y2_optimization('CNN_LSTM_WEIGHTS_100episodes_10000max_t.pt', 500, edit=True)\n",
    "\n",
    "print(max_score)\n",
    "plt.plot(scores)\n",
    "\n",
    "# 20초 소요\n",
    "# 0.9608938547486033"
   ]
  },
  {
   "cell_type": "code",
   "execution_count": 55,
   "metadata": {},
   "outputs": [
    {
     "name": "stderr",
     "output_type": "stream",
     "text": [
      "c:\\Users\\zkdlx\\miniconda3\\envs\\h2y2\\lib\\site-packages\\skopt\\optimizer\\optimizer.py:449: UserWarning: The objective has been evaluated at this point before.\n",
      "  warnings.warn(\"The objective has been evaluated \"\n",
      "c:\\Users\\zkdlx\\miniconda3\\envs\\h2y2\\lib\\site-packages\\skopt\\optimizer\\optimizer.py:449: UserWarning: The objective has been evaluated at this point before.\n",
      "  warnings.warn(\"The objective has been evaluated \"\n"
     ]
    },
    {
     "name": "stdout",
     "output_type": "stream",
     "text": [
      "\n",
      "Bayesian Search :  0.9608938547486033\n"
     ]
    }
   ],
   "source": [
    "# 바뀐 데이터셋으로 베이지안 최적화 성능 측정\n",
    "\n",
    "from skopt import BayesSearchCV\n",
    "\n",
    "data = pd.read_csv('./data/new_data.csv')\n",
    "x_data = data.drop(['target'], axis=1)\n",
    "y_data = data['target']\n",
    "train_x, test_x, train_y, test_y = train_test_split(x_data, y_data, test_size=0.3, random_state=42)\n",
    "\n",
    "Bayesian_search = {'n_estimators': [10, 50, 100, 150, 200],\n",
    "               'max_depth': [2, 4, 6, 8, 10],\n",
    "               'min_samples_leaf': [1, 2, 3, 4, 5],\n",
    "               'min_samples_split': [2, 3, 4, 5, 6],\n",
    "               'min_weight_fraction_leaf': [0.1, 0.2, 0.3, 0.4, 0.5],\n",
    "               'min_impurity_decrease': [0.1, 0.2, 0.3, 0.4, 0.5],\n",
    "               }\n",
    "\n",
    "clf = RandomForestClassifier(random_state=42)\n",
    "\n",
    "opt = BayesSearchCV(\n",
    "    clf,\n",
    "    Bayesian_search,\n",
    "    n_iter=100,\n",
    "    random_state=42,\n",
    ")\n",
    "\n",
    "opt.fit(train_x, train_y)\n",
    "predict = opt.best_estimator_.predict(test_x)\n",
    "print(\"\\nBayesian Search : \", accuracy_score(test_y, predict))\n",
    "\n",
    "# 하이퍼파라미터 6개를 각각 5개씩 지정하여 iteration을 100번 돌렸을 때,\n",
    "# 시간은 7분 10초가 소요된다.\n",
    "# 정확도는 Bayesian Search :  0.9608938547486033\n",
    "\n",
    "# 단점 : "
   ]
  },
  {
   "cell_type": "code",
   "execution_count": null,
   "metadata": {},
   "outputs": [],
   "source": [
    "# 베이지안과 성능이 같다."
   ]
  },
  {
   "cell_type": "code",
   "execution_count": 55,
   "metadata": {},
   "outputs": [
    {
     "name": "stdout",
     "output_type": "stream",
     "text": [
      "0.9629629629629629\n"
     ]
    },
    {
     "data": {
      "text/plain": [
       "[<matplotlib.lines.Line2D at 0x255a4e6c100>]"
      ]
     },
     "execution_count": 55,
     "metadata": {},
     "output_type": "execute_result"
    },
    {
     "data": {
      "image/png": "[encoded data removed]",
      "text/plain": [
       "<Figure size 640x480 with 1 Axes>"
      ]
     },
     "metadata": {},
     "output_type": "display_data"
    }
   ],
   "source": [
    "# DQL을 활용해서 비슷한 데이터(유방암 데이터 -> 다른 질병 데이터)가 되었을 때도 잘 동작하는지 확인\n",
    "\n",
    "import matplotlib.pyplot as plt\n",
    "scores, max_score, dones = h2y2_optimization('CNN_LSTM_WEIGHTS_100episodes_10000max_t.pt', 500, new=True)\n",
    "\n",
    "print(max_score)\n",
    "plt.plot(scores)\n",
    "\n",
    "# 10초\n",
    "# 0.8024691358024691"
   ]
  },
  {
   "cell_type": "code",
   "execution_count": 39,
   "metadata": {},
   "outputs": [
    {
     "ename": "ParserError",
     "evalue": "Error tokenizing data. C error: Expected 1 fields in line 14, saw 2\n",
     "output_type": "error",
     "traceback": [
      "\u001b[1;31m---------------------------------------------------------------------------\u001b[0m",
      "\u001b[1;31mParserError\u001b[0m                               Traceback (most recent call last)",
      "Cell \u001b[1;32mIn[39], line 5\u001b[0m\n\u001b[0;32m      3\u001b[0m temp_t \u001b[38;5;241m=\u001b[39m pd\u001b[38;5;241m.\u001b[39mread_csv(\u001b[38;5;124m'\u001b[39m\u001b[38;5;124m./data/secom/secom.data\u001b[39m\u001b[38;5;124m'\u001b[39m)\n\u001b[0;32m      4\u001b[0m temp_y \u001b[38;5;241m=\u001b[39m pd\u001b[38;5;241m.\u001b[39mread_csv(\u001b[38;5;124m'\u001b[39m\u001b[38;5;124m./data/secom/secom_labels.data\u001b[39m\u001b[38;5;124m'\u001b[39m)\n\u001b[1;32m----> 5\u001b[0m tt \u001b[38;5;241m=\u001b[39m \u001b[43mpd\u001b[49m\u001b[38;5;241;43m.\u001b[39;49m\u001b[43mread_csv\u001b[49m\u001b[43m(\u001b[49m\u001b[38;5;124;43m'\u001b[39;49m\u001b[38;5;124;43m./data/secom/secom.names\u001b[39;49m\u001b[38;5;124;43m'\u001b[39;49m\u001b[43m)\u001b[49m\n\u001b[0;32m      7\u001b[0m \u001b[38;5;28mprint\u001b[39m(tt)\n",
      "File \u001b[1;32mc:\\Users\\zkdlx\\miniconda3\\envs\\h2y2\\lib\\site-packages\\pandas\\util\\_decorators.py:311\u001b[0m, in \u001b[0;36mdeprecate_nonkeyword_arguments.<locals>.decorate.<locals>.wrapper\u001b[1;34m(*args, **kwargs)\u001b[0m\n\u001b[0;32m    305\u001b[0m \u001b[39mif\u001b[39;00m \u001b[39mlen\u001b[39m(args) \u001b[39m>\u001b[39m num_allow_args:\n\u001b[0;32m    306\u001b[0m     warnings\u001b[39m.\u001b[39mwarn(\n\u001b[0;32m    307\u001b[0m         msg\u001b[39m.\u001b[39mformat(arguments\u001b[39m=\u001b[39marguments),\n\u001b[0;32m    308\u001b[0m         \u001b[39mFutureWarning\u001b[39;00m,\n\u001b[0;32m    309\u001b[0m         stacklevel\u001b[39m=\u001b[39mstacklevel,\n\u001b[0;32m    310\u001b[0m     )\n\u001b[1;32m--> 311\u001b[0m \u001b[39mreturn\u001b[39;00m func(\u001b[39m*\u001b[39margs, \u001b[39m*\u001b[39m\u001b[39m*\u001b[39mkwargs)\n",
      "File \u001b[1;32mc:\\Users\\zkdlx\\miniconda3\\envs\\h2y2\\lib\\site-packages\\pandas\\io\\parsers\\readers.py:586\u001b[0m, in \u001b[0;36mread_csv\u001b[1;34m(filepath_or_buffer, sep, delimiter, header, names, index_col, usecols, squeeze, prefix, mangle_dupe_cols, dtype, engine, converters, true_values, false_values, skipinitialspace, skiprows, skipfooter, nrows, na_values, keep_default_na, na_filter, verbose, skip_blank_lines, parse_dates, infer_datetime_format, keep_date_col, date_parser, dayfirst, cache_dates, iterator, chunksize, compression, thousands, decimal, lineterminator, quotechar, quoting, doublequote, escapechar, comment, encoding, encoding_errors, dialect, error_bad_lines, warn_bad_lines, on_bad_lines, delim_whitespace, low_memory, memory_map, float_precision, storage_options)\u001b[0m\n\u001b[0;32m    571\u001b[0m kwds_defaults \u001b[39m=\u001b[39m _refine_defaults_read(\n\u001b[0;32m    572\u001b[0m     dialect,\n\u001b[0;32m    573\u001b[0m     delimiter,\n\u001b[1;32m   (...)\u001b[0m\n\u001b[0;32m    582\u001b[0m     defaults\u001b[39m=\u001b[39m{\u001b[39m\"\u001b[39m\u001b[39mdelimiter\u001b[39m\u001b[39m\"\u001b[39m: \u001b[39m\"\u001b[39m\u001b[39m,\u001b[39m\u001b[39m\"\u001b[39m},\n\u001b[0;32m    583\u001b[0m )\n\u001b[0;32m    584\u001b[0m kwds\u001b[39m.\u001b[39mupdate(kwds_defaults)\n\u001b[1;32m--> 586\u001b[0m \u001b[39mreturn\u001b[39;00m _read(filepath_or_buffer, kwds)\n",
      "File \u001b[1;32mc:\\Users\\zkdlx\\miniconda3\\envs\\h2y2\\lib\\site-packages\\pandas\\io\\parsers\\readers.py:488\u001b[0m, in \u001b[0;36m_read\u001b[1;34m(filepath_or_buffer, kwds)\u001b[0m\n\u001b[0;32m    485\u001b[0m     \u001b[39mreturn\u001b[39;00m parser\n\u001b[0;32m    487\u001b[0m \u001b[39mwith\u001b[39;00m parser:\n\u001b[1;32m--> 488\u001b[0m     \u001b[39mreturn\u001b[39;00m parser\u001b[39m.\u001b[39;49mread(nrows)\n",
      "File \u001b[1;32mc:\\Users\\zkdlx\\miniconda3\\envs\\h2y2\\lib\\site-packages\\pandas\\io\\parsers\\readers.py:1047\u001b[0m, in \u001b[0;36mTextFileReader.read\u001b[1;34m(self, nrows)\u001b[0m\n\u001b[0;32m   1045\u001b[0m \u001b[39mdef\u001b[39;00m \u001b[39mread\u001b[39m(\u001b[39mself\u001b[39m, nrows\u001b[39m=\u001b[39m\u001b[39mNone\u001b[39;00m):\n\u001b[0;32m   1046\u001b[0m     nrows \u001b[39m=\u001b[39m validate_integer(\u001b[39m\"\u001b[39m\u001b[39mnrows\u001b[39m\u001b[39m\"\u001b[39m, nrows)\n\u001b[1;32m-> 1047\u001b[0m     index, columns, col_dict \u001b[39m=\u001b[39m \u001b[39mself\u001b[39;49m\u001b[39m.\u001b[39;49m_engine\u001b[39m.\u001b[39;49mread(nrows)\n\u001b[0;32m   1049\u001b[0m     \u001b[39mif\u001b[39;00m index \u001b[39mis\u001b[39;00m \u001b[39mNone\u001b[39;00m:\n\u001b[0;32m   1050\u001b[0m         \u001b[39mif\u001b[39;00m col_dict:\n\u001b[0;32m   1051\u001b[0m             \u001b[39m# Any column is actually fine:\u001b[39;00m\n",
      "File \u001b[1;32mc:\\Users\\zkdlx\\miniconda3\\envs\\h2y2\\lib\\site-packages\\pandas\\io\\parsers\\c_parser_wrapper.py:224\u001b[0m, in \u001b[0;36mCParserWrapper.read\u001b[1;34m(self, nrows)\u001b[0m\n\u001b[0;32m    222\u001b[0m \u001b[39mtry\u001b[39;00m:\n\u001b[0;32m    223\u001b[0m     \u001b[39mif\u001b[39;00m \u001b[39mself\u001b[39m\u001b[39m.\u001b[39mlow_memory:\n\u001b[1;32m--> 224\u001b[0m         chunks \u001b[39m=\u001b[39m \u001b[39mself\u001b[39;49m\u001b[39m.\u001b[39;49m_reader\u001b[39m.\u001b[39;49mread_low_memory(nrows)\n\u001b[0;32m    225\u001b[0m         \u001b[39m# destructive to chunks\u001b[39;00m\n\u001b[0;32m    226\u001b[0m         data \u001b[39m=\u001b[39m _concatenate_chunks(chunks)\n",
      "File \u001b[1;32mc:\\Users\\zkdlx\\miniconda3\\envs\\h2y2\\lib\\site-packages\\pandas\\_libs\\parsers.pyx:801\u001b[0m, in \u001b[0;36mpandas._libs.parsers.TextReader.read_low_memory\u001b[1;34m()\u001b[0m\n",
      "File \u001b[1;32mc:\\Users\\zkdlx\\miniconda3\\envs\\h2y2\\lib\\site-packages\\pandas\\_libs\\parsers.pyx:857\u001b[0m, in \u001b[0;36mpandas._libs.parsers.TextReader._read_rows\u001b[1;34m()\u001b[0m\n",
      "File \u001b[1;32mc:\\Users\\zkdlx\\miniconda3\\envs\\h2y2\\lib\\site-packages\\pandas\\_libs\\parsers.pyx:843\u001b[0m, in \u001b[0;36mpandas._libs.parsers.TextReader._tokenize_rows\u001b[1;34m()\u001b[0m\n",
      "File \u001b[1;32mc:\\Users\\zkdlx\\miniconda3\\envs\\h2y2\\lib\\site-packages\\pandas\\_libs\\parsers.pyx:1925\u001b[0m, in \u001b[0;36mpandas._libs.parsers.raise_parser_error\u001b[1;34m()\u001b[0m\n",
      "\u001b[1;31mParserError\u001b[0m: Error tokenizing data. C error: Expected 1 fields in line 14, saw 2\n"
     ]
    }
   ],
   "source": [
    "# DQL을 활용해서 아예 다른 데이터(와인 종류 분류 데이터)가 되었을 때도 잘 동작하는지 확인\n",
    "\n",
    "import matplotlib.pyplot as plt\n",
    "scores, max_score, dones = h2y2_optimization('CNN_LSTM_WEIGHTS_100episodes_10000max_t.pt', 500, new=True)\n",
    "\n",
    "print(max_score)\n",
    "plt.plot(scores)\n",
    "\n",
    "# 10초\n",
    "# 0.9629629629629629"
   ]
  },
  {
   "cell_type": "code",
   "execution_count": 35,
   "metadata": {},
   "outputs": [
    {
     "name": "stdout",
     "output_type": "stream",
     "text": [
      "\n",
      "Bayesian Search :  0.8024691358024691\n"
     ]
    }
   ],
   "source": [
    "# 바뀐 데이터셋으로 베이지안 최적화 성능 측정 (비슷한 도메인인 경우 - 심장병 진단 데이터)\n",
    "\n",
    "from skopt import BayesSearchCV\n",
    "\n",
    "data = pd.read_csv('./data/Heart_Disease_Prediction.csv')\n",
    "x_data = data.drop(['Heart Disease'], axis=1)\n",
    "y_data = data['Heart Disease']\n",
    "train_x, test_x, train_y, test_y = train_test_split(x_data, y_data, test_size=0.3, random_state=42)\n",
    "\n",
    "Bayesian_search = {'n_estimators': [10, 50, 100, 150, 200],\n",
    "               'max_depth': [2, 4, 6, 8, 10],\n",
    "               'min_samples_leaf': [1, 2, 3, 4, 5],\n",
    "               'min_samples_split': [2, 3, 4, 5, 6],\n",
    "               'min_weight_fraction_leaf': [0.1, 0.2, 0.3, 0.4, 0.5],\n",
    "               'min_impurity_decrease': [0.1, 0.2, 0.3, 0.4, 0.5],\n",
    "               }\n",
    "\n",
    "clf = RandomForestClassifier(random_state=42)\n",
    "\n",
    "opt = BayesSearchCV(\n",
    "    clf,\n",
    "    Bayesian_search,\n",
    "    n_iter=100,\n",
    "    random_state=42,\n",
    ")\n",
    "\n",
    "opt.fit(train_x, train_y)\n",
    "predict = opt.best_estimator_.predict(test_x)\n",
    "print(\"\\nBayesian Search : \", accuracy_score(test_y, predict))\n",
    "\n",
    "# 하이퍼파라미터 6개를 각각 5개씩 지정하여 iteration을 100번 돌렸을 때,\n",
    "# 시간은 6분 42초가 소요된다.\n",
    "# 정확도는 Bayesian Search :  0.8024691358024691\n"
   ]
  },
  {
   "cell_type": "code",
   "execution_count": 56,
   "metadata": {},
   "outputs": [
    {
     "name": "stdout",
     "output_type": "stream",
     "text": [
      "\n",
      "Bayesian Search :  0.9629629629629629\n"
     ]
    }
   ],
   "source": [
    "# 바뀐 데이터셋으로 베이지안 최적화 성능 측정 (다른 도메인인 경우 - 와인 분류 데이터)\n",
    "\n",
    "from skopt import BayesSearchCV\n",
    "\n",
    "data = load_wine()\n",
    "x_data = pd.DataFrame(data.data, columns=data.feature_names)\n",
    "y_data = data.target\n",
    "train_x, test_x, train_y, test_y = train_test_split(x_data, y_data, test_size=0.3, random_state=42)\n",
    "\n",
    "Bayesian_search = {'n_estimators': [10, 50, 100, 150, 200],\n",
    "               'max_depth': [2, 4, 6, 8, 10],\n",
    "               'min_samples_leaf': [1, 2, 3, 4, 5],\n",
    "               'min_samples_split': [2, 3, 4, 5, 6],\n",
    "               'min_weight_fraction_leaf': [0.1, 0.2, 0.3, 0.4, 0.5],\n",
    "               'min_impurity_decrease': [0.1, 0.2, 0.3, 0.4, 0.5],\n",
    "               }\n",
    "\n",
    "clf = RandomForestClassifier(random_state=42)\n",
    "\n",
    "opt = BayesSearchCV(\n",
    "    clf,\n",
    "    Bayesian_search,\n",
    "    n_iter=100,\n",
    "    random_state=42,\n",
    ")\n",
    "\n",
    "opt.fit(train_x, train_y)\n",
    "predict = opt.best_estimator_.predict(test_x)\n",
    "print(\"\\nBayesian Search : \", accuracy_score(test_y, predict))\n",
    "\n",
    "# 하이퍼파라미터 6개를 각각 5개씩 지정하여 iteration을 100번 돌렸을 때,\n",
    "# 시간은 7분 15초가 소요된다.\n",
    "# 정확도는 Bayesian Search : 0.9629629629629629\n"
   ]
  },
  {
   "cell_type": "code",
   "execution_count": null,
   "metadata": {},
   "outputs": [],
   "source": [
    "# DQL을 활용해서 파인튜닝만으로 다른 데이터에서 잘 동작하는지 확인\n",
    "\n"
   ]
  }
 ],
 "metadata": {
  "kernelspec": {
   "display_name": "Python 3.7.16 ('h2y2')",
   "language": "python",
   "name": "python3"
  },
  "language_info": {
   "codemirror_mode": {
    "name": "ipython",
    "version": 3
   },
   "file_extension": ".py",
   "mimetype": "text/x-python",
   "name": "python",
   "nbconvert_exporter": "python",
   "pygments_lexer": "ipython3",
   "version": "3.10.0"
  },
  "orig_nbformat": 4,
  "vscode": {
   "interpreter": {
    "hash": "53e991c9edeba9e61f5fc5dc21b635cf9d5ecc55b271a0f82c627d18cdfb2087"
   }
  }
 },
 "nbformat": 4,
 "nbformat_minor": 2
}
